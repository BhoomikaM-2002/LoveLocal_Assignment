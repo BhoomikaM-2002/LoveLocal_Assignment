{
 "cells": [
  {
   "cell_type": "code",
   "execution_count": null,
   "id": "fa8b4607",
   "metadata": {},
   "outputs": [],
   "source": [
    "Question 1"
   ]
  },
  {
   "cell_type": "code",
   "execution_count": null,
   "id": "1e22ff25",
   "metadata": {},
   "outputs": [],
   "source": [
    "Easy 1\n",
    "\n",
    "Given a string s consisting of words and spaces, return the length of the last word in the string.\n",
    "A word is a maximal\n",
    "substring consisting of non-space characters only.\n",
    "Constraints:\n",
    "●1 <= s.length <= 104\n",
    "●s consists of only English letters and spaces ' '.\n",
    "●There will be at least one word in s."
   ]
  },
  {
   "cell_type": "markdown",
   "id": "8989425f",
   "metadata": {},
   "source": [
    "CODE:"
   ]
  },
  {
   "cell_type": "code",
   "execution_count": null,
   "id": "af466970",
   "metadata": {},
   "outputs": [],
   "source": [
    "def length_of_last_word(s):\n",
    "    words = s.split()\n",
    "    if not words:\n",
    "        return 0\n",
    "    return len(words[-1])\n",
    "# Example usage:\n",
    "s = \"Hello World\"\n",
    "result = length_of_last_word(s)\n",
    "print(result)"
   ]
  },
  {
   "cell_type": "code",
   "execution_count": null,
   "id": "ec96c130",
   "metadata": {},
   "outputs": [],
   "source": [
    "EXPLANATION:"
   ]
  },
  {
   "cell_type": "code",
   "execution_count": null,
   "id": "b5c78381",
   "metadata": {},
   "outputs": [],
   "source": [
    "Certainly! Let's break down the logic and algorithm of the code for finding the length of the last word in a given string.\n",
    "1. Split the String:\n",
    "   - The first step is to split the input string into words. This is done using the `split` method.\n",
    "   - The `split` method without any arguments splits the string based on whitespace by default. This gives us a list of words.\n",
    "2. Access the Last Word:\n",
    "   - Once the string is split, we can access the last word in the list.\n",
    "   - In Python, indexing with `-1` refers to the last element in a list.\n",
    "3. Calculate and Return Length:\n",
    "   - After obtaining the last word, the code calculates its length using the `len` function.\n",
    "   - The length of the last word is the desired result, so the function returns this length.\n",
    "4. Example:\n",
    "   - Let's consider the string \"Hello World\". After splitting, we get the list `['Hello', 'World']`.\n",
    "   - Accessing the last element with `[-1]` gives us `'World'`.\n",
    "   - The length of the last word, in this case, is 5, which is then returned by the function."
   ]
  },
  {
   "cell_type": "code",
   "execution_count": null,
   "id": "50348ac6",
   "metadata": {},
   "outputs": [],
   "source": [
    "Medium 1\n",
    "\n",
    "Given a binary search tree (BST), find the lowest common ancestor (LCA) node of two given nodes in the BST.\n",
    "According to the definition of LCA on Wikipedia: “The lowest common ancestor is defined between two nodes p and q as the lowest node in T that has both p and q as descendants (where we allow a node to be a descendant of itself).”\n",
    "Constraints:\n",
    "●The number of nodes in the tree is in the range [2, 105].\n",
    "●-109 <= Node.val <= 109\n",
    "●All Node.val are unique.\n",
    "●p != q\n",
    "●p and q will exist in the BST."
   ]
  },
  {
   "cell_type": "markdown",
   "id": "473df1e0",
   "metadata": {},
   "source": [
    "CODE:"
   ]
  },
  {
   "cell_type": "code",
   "execution_count": null,
   "id": "d872c71c",
   "metadata": {},
   "outputs": [],
   "source": [
    "class TreeNode:\n",
    "    def __init__(self, val=0, left=None, right=None):\n",
    "        self.val = val\n",
    "        self.left = left\n",
    "        self.right = right\n",
    "def lowest_common_ancestor(root, p, q):\n",
    "    if p.val > q.val:\n",
    "        p, q = q, p\n",
    "    while root:\n",
    "        if root.val > q.val:\n",
    "            root = root.left\n",
    "        elif root.val < p.val:\n",
    "            root = root.right\n",
    "        else:\n",
    "            return root\n",
    "# Example usage:\n",
    "root = TreeNode(5)\n",
    "root.left = TreeNode(3, TreeNode(2), TreeNode(4))\n",
    "root.right = TreeNode(6, None, TreeNode(7))\n",
    "# Find the LCA of nodes with values 2 and 4\n",
    "p = TreeNode(2)\n",
    "q = TreeNode(4)\n",
    "result = lowest_common_ancestor(root, p, q)\n",
    "print(result.val)"
   ]
  },
  {
   "cell_type": "code",
   "execution_count": null,
   "id": "73191e6c",
   "metadata": {},
   "outputs": [],
   "source": [
    "EXPLANATION:"
   ]
  },
  {
   "cell_type": "code",
   "execution_count": null,
   "id": "663d82a4",
   "metadata": {},
   "outputs": [],
   "source": [
    "To find the lowest common ancestor (LCA) of two nodes in a binary search tree (BST), you can follow these steps:\n",
    "1. Start from the Root:\n",
    "   - Begin traversing the tree starting from the root.\n",
    "2. Navigate Down the Tree:\n",
    "   - At each node, compare the values of the given nodes `p` and `q` with the current node's value.\n",
    "   - If both `p` and `q` are greater than the current node's value, it means both nodes are in the right subtree. So, move to the right child.\n",
    "   - If both `p` and `q` are less than the current node's value, it means both nodes are in the left subtree. So, move to the left child.\n",
    "3. LCA Condition:\n",
    "   - If one of `p` or `q` is smaller and the other is larger than the current node's value, or if one of them is equal to the current node's value, then the current node is the lowest common ancestor.\n",
    "   - This is because in a BST, the left subtree of a node contains values smaller than the node, and the right subtree contains values larger than the node.\n",
    "4. Repeat Until LCA is Found:\n",
    "   - Keep traversing down the tree until you find the LCA."
   ]
  },
  {
   "cell_type": "code",
   "execution_count": null,
   "id": "e7b37fa9",
   "metadata": {},
   "outputs": [],
   "source": [
    "Hard 2\n",
    "\n",
    "You are given a string s. You can convert s to a\n",
    "palindrome by adding characters in front of it.\n",
    "Return the shortest palindrome you can find by performing this transformation.\n",
    "Constraints:\n",
    "●0 <= s.length <= 5 * 104\n",
    "●s consists of lowercase English letters only."
   ]
  },
  {
   "cell_type": "markdown",
   "id": "0bf87296",
   "metadata": {},
   "source": [
    "CODE:"
   ]
  },
  {
   "cell_type": "code",
   "execution_count": null,
   "id": "434251ec",
   "metadata": {},
   "outputs": [],
   "source": [
    "def shortest_palindrome(s):\n",
    "    if not s:\n",
    "        return s\n",
    "    extended = s + \"#\" + s[::-1]\n",
    "    lps = [0] * len(extended)\n",
    "    j = 0\n",
    "for i in range(1, len(extended)):\n",
    "        while j > 0 and extended[i] != extended[j]:\n",
    "            j = lps[j - 1]\n",
    " if extended[i] == extended[j]:\n",
    "            j += 1\n",
    " lps[i] = j\n",
    "    palindrome_length = lps[-1]\n",
    "    return s[palindrome_length:][::-1] + s\n",
    "# Example usage:\n",
    "s = \"abcd\"\n",
    "result = shortest_palindrome(s)\n",
    "print(result)"
   ]
  },
  {
   "cell_type": "code",
   "execution_count": null,
   "id": "4de11034",
   "metadata": {},
   "outputs": [],
   "source": [
    "EXPLANATION:"
   ]
  },
  {
   "cell_type": "code",
   "execution_count": null,
   "id": "1b56b043",
   "metadata": {},
   "outputs": [],
   "source": [
    "To find the shortest palindrome by adding characters in front of a given string `s`, you can use the concept of the KMP (Knuth–Morris–Pratt) algorithm and build a modified string for pattern matching. The idea is to find the longest palindromic prefix of the reversed string.\n",
    "\n",
    "Here's the step-by-step explanation:\n",
    "1. Create Modified String:\n",
    "   - Construct a new string `new_s` by concatenating the reversed `s` with a special character (n\n",
    "2. Build Prefix Array (KMP):\n",
    "   - Build the prefix array (also known as the LPS array - Longest Proper Prefix which is also Suffix) for the modified string `new_s` using the KMP algorithm.\n",
    "3. Find Palindromic Prefix:\n",
    "   - The value at the last index of the prefix array indicates the length of the longest palindromic prefix of `new_s`. Let's call this length `len_palindrome`.\n",
    "4. Construct Result:\n",
    "   - The characters from index `len_palindrome` to the end in the reversed `s` need to be added to the front of `s` to make it a palindrome. Extract these characters and concatenate them in front of `s` to get the result."
   ]
  }
 ],
 "metadata": {
  "kernelspec": {
   "display_name": "Python 3 (ipykernel)",
   "language": "python",
   "name": "python3"
  },
  "language_info": {
   "codemirror_mode": {
    "name": "ipython",
    "version": 3
   },
   "file_extension": ".py",
   "mimetype": "text/x-python",
   "name": "python",
   "nbconvert_exporter": "python",
   "pygments_lexer": "ipython3",
   "version": "3.11.3"
  }
 },
 "nbformat": 4,
 "nbformat_minor": 5
}
